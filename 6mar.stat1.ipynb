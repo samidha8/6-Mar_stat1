{
 "cells": [
  {
   "cell_type": "code",
   "execution_count": 1,
   "id": "769415f6-1fdd-4705-a290-5222dce02dc3",
   "metadata": {},
   "outputs": [],
   "source": [
    "#Q1. What is Statistics?"
   ]
  },
  {
   "cell_type": "code",
   "execution_count": 3,
   "id": "fd7b1931-705c-4f7f-bb4d-7d896f0b502a",
   "metadata": {},
   "outputs": [],
   "source": [
    "#statistics is the science of collecting,organizing and analyzing data"
   ]
  },
  {
   "cell_type": "code",
   "execution_count": 4,
   "id": "32863289-4117-4a6c-9634-3a90c732eeb5",
   "metadata": {},
   "outputs": [],
   "source": [
    "#Q2. Define the different types of statistics and give an example of when each type might be used."
   ]
  },
  {
   "cell_type": "code",
   "execution_count": 5,
   "id": "451271b4-bdac-472f-81a0-20403c203fb1",
   "metadata": {},
   "outputs": [],
   "source": [
    "#there are 2 types in statictics:- descriptive stat and inferential stat\n",
    "#descriptive statistics :- it consist of organizing and summarizig data include 3 types\n",
    "  #measure of central tendocy:- mean,median,mode\n",
    "  #measure of dispersion:- variece,standard deviation\n",
    "  #different type of distribution of data:- histogram,pdf,pmf\n",
    "    \n",
    "#inferential statistics:- it  consist of data you measure to form conclusion:- z test, t test, CMI Square"
   ]
  },
  {
   "cell_type": "code",
   "execution_count": 6,
   "id": "fe7d1b43-263c-4b69-aa2d-0a3488ba46c1",
   "metadata": {},
   "outputs": [],
   "source": [
    "#Q3. What are the different types of data and how do they differ from each other? Provide an example of each type of data."
   ]
  },
  {
   "cell_type": "code",
   "execution_count": 7,
   "id": "875a11cc-fda0-41fa-a428-c321431924db",
   "metadata": {},
   "outputs": [],
   "source": [
    "#There are 2 types of data Qualitative & Quantitative\n",
    "# Qualitative data is numerical data icludes:-\n",
    "     #Descrite data:- it is a whole number eg. bank a/c,number of phone,number of family members \n",
    "     #continuous data:- any value eg. hight,weight,temp,speed\n",
    "        \n",
    "#Quantitative data:-it is a categorical data\n",
    "     #Nominal data:-we don't give rank eg gender(M,F), blood group, pin code\n",
    "     #ordial data:- Can give rank eg. customers feedback form"
   ]
  },
  {
   "cell_type": "code",
   "execution_count": 9,
   "id": "181854bb-7b5f-4c6e-8387-b5a5b26d0148",
   "metadata": {},
   "outputs": [],
   "source": [
    "#Q4. Categorise the following datasets with respect to quantitative and qualitative data types:\n",
    "#(i) Grading in exam: A+, A, B+, B, C+, C, D, E\n",
    "# ANS:-  qualitative data:- Ordinal\n",
    "\n",
    "#(ii) Colour of mangoes: yellow, green, orange, red\n",
    "# ANS:- qualitative data:- nominal\n",
    "\n",
    "#(iii) Height data of a class: [178.9, 179, 179.5, 176, 177.2, 178.3, 175.8,...]\n",
    "# ANS:-  quantitative data:- continuous\n",
    "\n",
    "#(iv) Number of mangoes exported by a farm: [500, 600, 478, 672, ...]\n",
    "## ANS:-  quantitative data:- descrite"
   ]
  },
  {
   "cell_type": "code",
   "execution_count": 10,
   "id": "d79d8961-bfab-42d0-9345-ee26c85059db",
   "metadata": {},
   "outputs": [],
   "source": [
    "#Q5. Explain the concept of levels of measurement and give an example of a variable for each level."
   ]
  },
  {
   "cell_type": "code",
   "execution_count": 11,
   "id": "a08032d7-b52d-4044-b0d9-babd3b89210e",
   "metadata": {},
   "outputs": [],
   "source": [
    "#The level of measurement refers to the relationship among the values that are assigned to the attributes for a variable.there are 4 types\n",
    "# Nomial scale data:- it is qualitative/categorical data, order does ot matter i this data eg. gender,hobies,colour\n",
    "#ordinal scale data:-ranking is important, order matters but difference can't be measure rg  education level\n",
    "#Interval scale data:- order matter,difference can be measure,ratio can not be measure, no 0 starting point eg.temp variece can measure diff in\n",
    "#temp but can't give ratio\n",
    "#Ratio scale of data:- order matter,fifference measurable including ratio, contains 0 starting point e.studet marks"
   ]
  },
  {
   "cell_type": "code",
   "execution_count": 12,
   "id": "48441601-370b-4151-91b4-53022f805e16",
   "metadata": {},
   "outputs": [],
   "source": [
    "#Q6. Why is it important to understand the level of measurement when analyzing data? Provide an example to illustrate your answer."
   ]
  },
  {
   "cell_type": "code",
   "execution_count": 13,
   "id": "2777dc22-9c07-41ee-966f-0949b155bca9",
   "metadata": {},
   "outputs": [
    {
     "data": {
      "text/plain": [
       "'It is important to understand the level of measurement of variables in research, because the level of measurement determines the type of statistical analysis that can be conducted, and, therefore, the type of conclusions that can be drawn from the research.'"
      ]
     },
     "execution_count": 13,
     "metadata": {},
     "output_type": "execute_result"
    }
   ],
   "source": [
    "\"\"\"It is important to understand the level of measurement of variables in research, because the level of measurement determines the type of statistical analysis that can be conducted, and, therefore, the type of conclusions that can be drawn from the research.\"\"\""
   ]
  },
  {
   "cell_type": "code",
   "execution_count": 14,
   "id": "8dd44c51-cfd5-4921-a41b-489459741a8b",
   "metadata": {},
   "outputs": [
    {
     "data": {
      "text/plain": [
       "'helps you decide how to interpret the data from that variable. When you know that a measure is nominal (like the one just described), then you know that the numerical values are just short codes for the longer names.'"
      ]
     },
     "execution_count": 14,
     "metadata": {},
     "output_type": "execute_result"
    }
   ],
   "source": [
    "\"\"\"helps you decide how to interpret the data from that variable. When you know that a measure is nominal (like the one just described), then you know that the numerical values are just short codes for the longer names.\"\"\""
   ]
  },
  {
   "cell_type": "code",
   "execution_count": null,
   "id": "919c5a11-3aeb-48f8-bbe8-fed00f6774b2",
   "metadata": {},
   "outputs": [],
   "source": []
  },
  {
   "cell_type": "code",
   "execution_count": 16,
   "id": "252598db-d225-471e-8e97-7c6306ed513b",
   "metadata": {},
   "outputs": [],
   "source": [
    "#Q7. How nominal data type is different from ordinal data type."
   ]
  },
  {
   "cell_type": "code",
   "execution_count": 17,
   "id": "74ecd641-5bad-48bb-a82b-712b67b5c3b1",
   "metadata": {},
   "outputs": [],
   "source": [
    "#Nominal data is classified without a natural order or rank, whereas ordinal data has a predetermined or natural order."
   ]
  },
  {
   "cell_type": "code",
   "execution_count": null,
   "id": "91b60dd1-982f-4751-9d18-52dbeaefed37",
   "metadata": {},
   "outputs": [],
   "source": []
  },
  {
   "cell_type": "code",
   "execution_count": 15,
   "id": "a4d3d6fd-57c3-4b0c-bae7-14748a719687",
   "metadata": {},
   "outputs": [],
   "source": [
    "#Q8. Which type of plot can be used to display data in terms of range?"
   ]
  },
  {
   "cell_type": "code",
   "execution_count": 18,
   "id": "ecfe3a23-c114-4980-a4d7-242f59470245",
   "metadata": {},
   "outputs": [],
   "source": [
    "#Histogram"
   ]
  },
  {
   "cell_type": "code",
   "execution_count": null,
   "id": "0eb639aa-7cbc-4da9-be68-5d327c322973",
   "metadata": {},
   "outputs": [],
   "source": []
  },
  {
   "cell_type": "code",
   "execution_count": 20,
   "id": "9c35c7fe-4ef2-426c-b5b0-4cd2b8313412",
   "metadata": {},
   "outputs": [],
   "source": [
    "#Q9Describe the difference between descriptive and inferential statistics. Give an example of each type of statistics and explain how they are used."
   ]
  },
  {
   "cell_type": "code",
   "execution_count": 2,
   "id": "933a2fcd-802b-4be8-a716-681b310d83d9",
   "metadata": {},
   "outputs": [
    {
     "data": {
      "text/plain": [
       "'Descriptive Statistics gives information about raw data regarding its description or features. Inferential statistics, on the other hand, draw inferences about the population by using data extracted from the population./n Descriptive statistics summarize the characteristics of a data set. Inferential statistics allow you to test a hypothesis or assess whether your data is generalizable to the broader population.'"
      ]
     },
     "execution_count": 2,
     "metadata": {},
     "output_type": "execute_result"
    }
   ],
   "source": [
    "\"\"\"Descriptive Statistics gives information about raw data regarding its description or features. Inferential statistics, on the other hand, draw inferences about the population by using data extracted from the population./n Descriptive statistics summarize the characteristics of a data set. Inferential statistics allow you to test a hypothesis or assess whether your data is generalizable to the broader population.\"\"\""
   ]
  },
  {
   "cell_type": "code",
   "execution_count": 7,
   "id": "1e871872-2c0d-46ed-b7e5-d7ca452425c5",
   "metadata": {},
   "outputs": [
    {
     "data": {
      "text/plain": [
       "'#Descriptive Statistics:-\\nDecribe or summarize the data of a target population.\\n• Describe the data which is already known.\\n• Organize, analyze & present data in a meaningful manner. \\n• Final results are shown in forms of tables and graphs.\\n• Tools: measures of central tendency & dispersion. Descriptiv e\\n\\n#Inferential  Statistics:-\\n• Use data to make inferences or generalizations about population.\\n• Make conclusions for population that is beyond available data. \\n• Compare, test and predicts future outcomes. \\n• Final results is the probability scores. \\n• Tools: hypothesis tests Inferential'"
      ]
     },
     "execution_count": 7,
     "metadata": {},
     "output_type": "execute_result"
    }
   ],
   "source": [
    "\"\"\"#Descriptive Statistics:-\n",
    "Decribe or summarize the data of a target population.\n",
    "• Describe the data which is already known.\n",
    "• Organize, analyze & present data in a meaningful manner. \n",
    "• Final results are shown in forms of tables and graphs.\n",
    "• Tools: measures of central tendency & dispersion. Descriptiv \n",
    "\n",
    "#Inferential  Statistics:-\n",
    "• Use data to make inferences or generalizations about population.\n",
    "• Make conclusions for population that is beyond available data. \n",
    "• Compare, test and predicts future outcomes. \n",
    "• Final results is the probability scores. \n",
    "• Tools: hypothesis tests Inferential\"\"\""
   ]
  },
  {
   "cell_type": "code",
   "execution_count": 8,
   "id": "cc2c31f4-c4ff-4b3d-a390-7a7ab86ebe79",
   "metadata": {},
   "outputs": [],
   "source": [
    "#Descriptive stat:-\n",
    "#mean:- average of total marks\n",
    "#median:“middle value of marks or average of “middle two values of marks\n",
    "#mode:- Most common number in marks \n",
    "#Variance: square of the standard deviation.split/spread of data\n",
    "#standard deviation: square root the Variance.deviation from mean value"
   ]
  },
  {
   "cell_type": "code",
   "execution_count": 34,
   "id": "b9c7a442-b5eb-4f45-aac5-bd3259296a8c",
   "metadata": {},
   "outputs": [],
   "source": [
    "#Inferential  Statistic\n",
    "#z-test is used to test a Null Hypothesis if the population variance is known, \n",
    "#or if the sample size is larger than 30, for an unknown population variance. \n",
    "\n",
    "#t-test is used when the sample size is less than 30 and the population variance is unknown."
   ]
  },
  {
   "cell_type": "code",
   "execution_count": null,
   "id": "e598597a-72ca-4dfa-bc85-a01b84e1f174",
   "metadata": {},
   "outputs": [],
   "source": []
  },
  {
   "cell_type": "code",
   "execution_count": 9,
   "id": "04ccbfeb-18f6-4da0-99a1-7b53be529c7b",
   "metadata": {},
   "outputs": [
    {
     "data": {
      "text/plain": [
       "' What are some common measures of central tendency and variability used in statistics? Explain howeach measure can be used to describe a dataset.'"
      ]
     },
     "execution_count": 9,
     "metadata": {},
     "output_type": "execute_result"
    }
   ],
   "source": [
    "\"\"\" What are some common measures of central tendency and variability used in statistics? Explain howeach measure can be used to describe a dataset.\"\"\""
   ]
  },
  {
   "cell_type": "code",
   "execution_count": 4,
   "id": "b8a12225-12d2-4b0c-8ad0-561a5549af0d",
   "metadata": {},
   "outputs": [],
   "source": [
    "#measures of central tendency:-\n",
    "#mean:- average of all values\n",
    "#median:“middle value” or average of “middle two values” in a data set when the numbers are arranged in an order\n",
    "#mode:-value that occurs with greatest frequency. Solution: Most common number/Mode is\n",
    "#Variance: square of the standard deviation.split/spread of data\n",
    "#standard deviation: square root the Variance.deviation from mean"
   ]
  },
  {
   "cell_type": "code",
   "execution_count": 30,
   "id": "925ef3b6-f401-4365-9ecd-cc9fc8352c0a",
   "metadata": {},
   "outputs": [
    {
     "data": {
      "text/plain": [
       "24.875"
      ]
     },
     "execution_count": 30,
     "metadata": {},
     "output_type": "execute_result"
    }
   ],
   "source": [
    "#mean- average of data\n",
    "import numpy as np\n",
    "data= [12,13,14,15,16,17,100,12]\n",
    "np.mean(data)"
   ]
  },
  {
   "cell_type": "code",
   "execution_count": 33,
   "id": "65544b7d-89a7-4d55-9e6a-134e0f41b0eb",
   "metadata": {},
   "outputs": [
    {
     "data": {
      "text/plain": [
       "14.5"
      ]
     },
     "execution_count": 33,
     "metadata": {},
     "output_type": "execute_result"
    }
   ],
   "source": [
    "#median:- useful when outliner is present eg 100 is outliner \n",
    "np.median(data)"
   ]
  },
  {
   "cell_type": "code",
   "execution_count": 21,
   "id": "bf3eefa6-9007-449b-be7b-3a8e8748ac85",
   "metadata": {},
   "outputs": [
    {
     "name": "stderr",
     "output_type": "stream",
     "text": [
      "/tmp/ipykernel_112/3984222570.py:3: FutureWarning: Unlike other reduction functions (e.g. `skew`, `kurtosis`), the default behavior of `mode` typically preserves the axis it acts along. In SciPy 1.11.0, this behavior will change: the default value of `keepdims` will become False, the `axis` over which the statistic is taken will be eliminated, and the value None will no longer be accepted. Set `keepdims` to True or False to avoid this warning.\n",
      "  stats.mode(data)\n"
     ]
    },
    {
     "data": {
      "text/plain": [
       "ModeResult(mode=array([12]), count=array([2]))"
      ]
     },
     "execution_count": 21,
     "metadata": {},
     "output_type": "execute_result"
    }
   ],
   "source": [
    "#mode:-most frequent\n",
    "from scipy import stats\n",
    "stats.mode(data)"
   ]
  },
  {
   "cell_type": "code",
   "execution_count": 22,
   "id": "4a566f8e-0cac-4be9-a5b8-63ebd9dd58d8",
   "metadata": {},
   "outputs": [
    {
     "data": {
      "text/plain": [
       "28.44484795178206"
      ]
     },
     "execution_count": 22,
     "metadata": {},
     "output_type": "execute_result"
    }
   ],
   "source": [
    "np.std(data)"
   ]
  },
  {
   "cell_type": "code",
   "execution_count": 25,
   "id": "f175143c-1c7a-4e02-aad5-475d98ec21e5",
   "metadata": {},
   "outputs": [
    {
     "data": {
      "text/plain": [
       "809.109375"
      ]
     },
     "execution_count": 25,
     "metadata": {},
     "output_type": "execute_result"
    }
   ],
   "source": [
    "np.var(data)"
   ]
  },
  {
   "cell_type": "code",
   "execution_count": 27,
   "id": "30be0ce3-b546-4b7b-9ae8-8ed3eede9618",
   "metadata": {
    "jp-MarkdownHeadingCollapsed": true,
    "tags": []
   },
   "outputs": [],
   "source": [
    "import seaborn as sns"
   ]
  },
  {
   "cell_type": "code",
   "execution_count": 29,
   "id": "024c5890-f233-4fd6-99e0-6e3b338cd83e",
   "metadata": {},
   "outputs": [
    {
     "data": {
      "text/plain": [
       "<AxesSubplot: ylabel='Count'>"
      ]
     },
     "execution_count": 29,
     "metadata": {},
     "output_type": "execute_result"
    },
    {
     "data": {
      "image/png": "[encoded data removed]",
      "text/plain": [
       "<Figure size 640x480 with 1 Axes>"
      ]
     },
     "metadata": {},
     "output_type": "display_data"
    }
   ],
   "source": [
    "sns.histplot(data ,kde=True)"
   ]
  },
  {
   "cell_type": "code",
   "execution_count": null,
   "id": "e3f66063-c02a-4fce-9e79-86fb5883df9d",
   "metadata": {},
   "outputs": [],
   "source": []
  }
 ],
 "metadata": {
  "kernelspec": {
   "display_name": "Python 3 (ipykernel)",
   "language": "python",
   "name": "python3"
  },
  "language_info": {
   "codemirror_mode": {
    "name": "ipython",
    "version": 3
   },
   "file_extension": ".py",
   "mimetype": "text/x-python",
   "name": "python",
   "nbconvert_exporter": "python",
   "pygments_lexer": "ipython3",
   "version": "3.10.8"
  }
 },
 "nbformat": 4,
 "nbformat_minor": 5
}
